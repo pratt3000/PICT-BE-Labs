{
  "nbformat": 4,
  "nbformat_minor": 0,
  "metadata": {
    "colab": {
      "name": "SCOA3.ipynb",
      "provenance": []
    },
    "kernelspec": {
      "name": "python3",
      "display_name": "Python 3"
    },
    "language_info": {
      "name": "python"
    }
  },
  "cells": [
    {
      "cell_type": "code",
      "source": [
        "import numpy as np\n",
        "np.random.seed(40)"
      ],
      "metadata": {
        "id": "KN8dTNj0sRf1"
      },
      "execution_count": 6,
      "outputs": []
    },
    {
      "cell_type": "code",
      "source": [
        "def dec_to_bin(x, n):\n",
        "  b = bin(x).replace('0b', '')\n",
        "  return '0' * max((n - len(b)), 0) + b"
      ],
      "metadata": {
        "id": "Jkroo5cSsRf2"
      },
      "execution_count": 7,
      "outputs": []
    },
    {
      "cell_type": "code",
      "source": [
        "class BitPopulation:\n",
        "  def __init__(self, length, initial_size, c1, c2, w1, w2):\n",
        "    self.length = length\n",
        "    self.size = initial_size\n",
        "    self.__init_population()\n",
        "    self.c1 = c1\n",
        "    self.c2 = c2\n",
        "    self.w1 = w1\n",
        "    self.w2 = w2\n",
        "\n",
        "  def __init_population(self):\n",
        "    mean = 2 ** (self.length - 2)\n",
        "    std = mean / 2\n",
        "    self.min_val = 0\n",
        "    self.max_val = 2 ** self.length - 1\n",
        "    population = np.random.normal(mean, std, self.size)\n",
        "    self.__population = [int(max(self.min_val, min(self.max_val, x))) for x in population]\n",
        "    self.__velocity = np.random.normal(10, 1, self.size)\n",
        "    self.__pbest = self.__population.copy()\n",
        "    self.__gbest = np.max(self.__pbest)\n",
        "\n",
        "  def get_popultation(self):\n",
        "    # return self.__population.copy()\n",
        "    return [dec_to_bin(x, self.length) for x in self.__population]\n",
        "\n",
        "  def display_population(self):\n",
        "    for x in self.__population:\n",
        "      print(f'{dec_to_bin(x, self.length)}: {x}')\n",
        "    print()\n",
        "\n",
        "  def __fitness(self, x):\n",
        "    return x * x\n",
        "\n",
        "  def __update_pbest(self):\n",
        "    for i in range(self.size):\n",
        "      if self.__fitness(self.__population[i]) > self.__fitness(self.__pbest[i]):\n",
        "        self.__pbest[i] = self.__population[i]\n",
        "\n",
        "  def __update_position(self, w):\n",
        "    r1 = np.random.rand()\n",
        "    r2 = np.random.rand()\n",
        "    for i in range(self.size):\n",
        "      self.__velocity[i] = self.__velocity[i] * w + self.c1 * r1 * (self.__pbest[i] - self.__population[i]) + self.c2 * r2 * (self.__gbest - self.__population[i])\n",
        "      x = self.__population[i] + self.__velocity[i]\n",
        "      self.__population[i] = int(max(self.min_val, min(self.max_val, x)))\n",
        "\n",
        "  def __perform_iteration(self, i):\n",
        "    w = self.alpha * i + self.w1\n",
        "    self.__update_pbest()\n",
        "    self.__gbest = np.max(self.__pbest)\n",
        "    self.__update_position(w)\n",
        "\n",
        "  def fit(self, iterations):\n",
        "    print('INITIAL POPULATION:')\n",
        "    self.display_population()\n",
        "    self.alpha = (self.w2 - self.w1) / (iterations - 1)\n",
        "    for i in range(iterations):\n",
        "      self.__perform_iteration(i)\n",
        "      print(f'ITERATION {i+1}: ')\n",
        "      self.display_population()"
      ],
      "metadata": {
        "id": "Ns84aa-zsRf4"
      },
      "execution_count": 8,
      "outputs": []
    },
    {
      "cell_type": "code",
      "source": [
        "population = BitPopulation(8, 8, 2, 2, 0.9, 0.4)"
      ],
      "metadata": {
        "id": "QO43YuMOQCr5"
      },
      "execution_count": 9,
      "outputs": []
    },
    {
      "cell_type": "code",
      "source": [
        "population.fit(5)"
      ],
      "metadata": {
        "colab": {
          "base_uri": "https://localhost:8080/"
        },
        "id": "dj5S2G5ryyXD",
        "outputId": "a43d46b7-70de-44f0-bc47-bf9c982f2545"
      },
      "execution_count": 10,
      "outputs": [
        {
          "output_type": "stream",
          "name": "stdout",
          "text": [
            "INITIAL POPULATION:\n",
            "00101100: 44\n",
            "00111011: 59\n",
            "00101010: 42\n",
            "01011101: 93\n",
            "00000100: 4\n",
            "00110001: 49\n",
            "10001001: 137\n",
            "01001111: 79\n",
            "\n",
            "ITERATION 1: \n",
            "01011011: 91\n",
            "01100100: 100\n",
            "01011001: 89\n",
            "01111000: 120\n",
            "01000011: 67\n",
            "01011110: 94\n",
            "10010001: 145\n",
            "01101111: 111\n",
            "\n",
            "ITERATION 2: \n",
            "10110000: 176\n",
            "10101100: 172\n",
            "10110000: 176\n",
            "10100011: 163\n",
            "10111010: 186\n",
            "10101110: 174\n",
            "10010111: 151\n",
            "10100110: 166\n",
            "\n",
            "ITERATION 3: \n",
            "11111010: 250\n",
            "11110101: 245\n",
            "11111011: 251\n",
            "11101011: 235\n",
            "11111111: 255\n",
            "11111001: 249\n",
            "11011110: 222\n",
            "11110000: 240\n",
            "\n",
            "ITERATION 4: \n",
            "11111111: 255\n",
            "11111111: 255\n",
            "11111111: 255\n",
            "11111111: 255\n",
            "11111111: 255\n",
            "11111111: 255\n",
            "11111111: 255\n",
            "11111111: 255\n",
            "\n",
            "ITERATION 5: \n",
            "11111111: 255\n",
            "11111111: 255\n",
            "11111111: 255\n",
            "11111111: 255\n",
            "11111111: 255\n",
            "11111111: 255\n",
            "11111111: 255\n",
            "11111111: 255\n",
            "\n"
          ]
        }
      ]
    }
  ]
}