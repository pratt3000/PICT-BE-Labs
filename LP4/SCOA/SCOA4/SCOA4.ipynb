{
  "nbformat": 4,
  "nbformat_minor": 0,
  "metadata": {
    "colab": {
      "name": "SCOA4.ipynb",
      "provenance": []
    },
    "kernelspec": {
      "name": "python3",
      "display_name": "Python 3"
    },
    "language_info": {
      "name": "python"
    }
  },
  "cells": [
    {
      "cell_type": "code",
      "source": [
        "import numpy as np"
      ],
      "metadata": {
        "id": "vKhT3tPjwHii"
      },
      "execution_count": 1,
      "outputs": []
    },
    {
      "cell_type": "code",
      "source": [
        "class NeuralNet:\n",
        "  def __init__(self, input_nodes):\n",
        "    self.n = input_nodes\n",
        "    self.w = np.zeros((self.n))\n",
        "    self.b = 0\n",
        "\n",
        "  def __train(self, x, y):\n",
        "    self.w += np.array(x) * y\n",
        "    self.b += y\n",
        "\n",
        "  def fit(self, X, y):\n",
        "    assert len(X[0]) == self.n, \"Invalid input shape.\"\n",
        "    for i in range(len(X)):\n",
        "      self.__train(X[i], y[i])\n",
        "\n",
        "  def predict(self, X):\n",
        "    return np.sum(self.w * X, axis = 1) + self.b"
      ],
      "metadata": {
        "id": "F8mrrQ3YuWLU"
      },
      "execution_count": 2,
      "outputs": []
    },
    {
      "cell_type": "markdown",
      "source": [
        "## **OR GATE**"
      ],
      "metadata": {
        "id": "rf1W9ArzzoCf"
      }
    },
    {
      "cell_type": "code",
      "source": [
        "or_model = NeuralNet(2)"
      ],
      "metadata": {
        "id": "N1vvJFweuWNK"
      },
      "execution_count": 3,
      "outputs": []
    },
    {
      "cell_type": "code",
      "source": [
        "X = [\n",
        "     [-1, -1],\n",
        "     [-1, 1],\n",
        "     [1, -1],\n",
        "     [1, 1]\n",
        "]\n",
        "y = [-1, 1, 1, 1]"
      ],
      "metadata": {
        "id": "dmt-Is-suWPP"
      },
      "execution_count": 4,
      "outputs": []
    },
    {
      "cell_type": "code",
      "source": [
        "or_model.fit(X, y)"
      ],
      "metadata": {
        "id": "3t2cjkU5y1Ms"
      },
      "execution_count": 5,
      "outputs": []
    },
    {
      "cell_type": "code",
      "source": [
        "or_model.w\n",
        "or_model.b"
      ],
      "metadata": {
        "colab": {
          "base_uri": "https://localhost:8080/"
        },
        "id": "hULlDdqizC0R",
        "outputId": "289f5cd5-85eb-422a-d0cf-32d92c2375b2"
      },
      "execution_count": 6,
      "outputs": [
        {
          "output_type": "execute_result",
          "data": {
            "text/plain": [
              "2"
            ]
          },
          "metadata": {},
          "execution_count": 6
        }
      ]
    },
    {
      "cell_type": "code",
      "source": [
        "or_model.predict(X)"
      ],
      "metadata": {
        "colab": {
          "base_uri": "https://localhost:8080/"
        },
        "id": "9XdxD7IDz4Rg",
        "outputId": "ddf5b4a9-bd67-4374-db51-4d62ba7bd343"
      },
      "execution_count": 7,
      "outputs": [
        {
          "output_type": "execute_result",
          "data": {
            "text/plain": [
              "array([-2.,  2.,  2.,  6.])"
            ]
          },
          "metadata": {},
          "execution_count": 7
        }
      ]
    },
    {
      "cell_type": "markdown",
      "source": [
        "## **AND GATE**"
      ],
      "metadata": {
        "id": "tkzcZK-E0ZPR"
      }
    },
    {
      "cell_type": "code",
      "source": [
        "and_model = NeuralNet(2)"
      ],
      "metadata": {
        "id": "mI-bJxGk0cCA"
      },
      "execution_count": 8,
      "outputs": []
    },
    {
      "cell_type": "code",
      "source": [
        "X = [\n",
        "     [-1, -1],\n",
        "     [-1, 1],\n",
        "     [1, -1],\n",
        "     [1, 1]\n",
        "]\n",
        "y = [-1, -1, -1, 1]"
      ],
      "metadata": {
        "id": "WqfM7KjW0cCB"
      },
      "execution_count": 9,
      "outputs": []
    },
    {
      "cell_type": "code",
      "source": [
        "and_model.fit(X, y)"
      ],
      "metadata": {
        "id": "5stpZeXo0cCD"
      },
      "execution_count": 10,
      "outputs": []
    },
    {
      "cell_type": "code",
      "source": [
        "and_model.w\n",
        "and_model.b"
      ],
      "metadata": {
        "colab": {
          "base_uri": "https://localhost:8080/"
        },
        "id": "eOTu5KWFzIdf",
        "outputId": "3069b05c-9057-447a-c01a-8bf8c070848e"
      },
      "execution_count": 11,
      "outputs": [
        {
          "output_type": "execute_result",
          "data": {
            "text/plain": [
              "-2"
            ]
          },
          "metadata": {},
          "execution_count": 11
        }
      ]
    },
    {
      "cell_type": "code",
      "source": [
        "and_model.predict(X)"
      ],
      "metadata": {
        "colab": {
          "base_uri": "https://localhost:8080/"
        },
        "outputId": "c0786c0f-4c72-40f6-c2fc-0d8051a2f633",
        "id": "8GO_ZD6u0cCD"
      },
      "execution_count": 12,
      "outputs": [
        {
          "output_type": "execute_result",
          "data": {
            "text/plain": [
              "array([-6., -2., -2.,  2.])"
            ]
          },
          "metadata": {},
          "execution_count": 12
        }
      ]
    },
    {
      "cell_type": "markdown",
      "source": [
        "## **NOT GATE**"
      ],
      "metadata": {
        "id": "ausQhOtA0gmb"
      }
    },
    {
      "cell_type": "code",
      "source": [
        "not_model = NeuralNet(1)"
      ],
      "metadata": {
        "id": "beaa9-CR0m8E"
      },
      "execution_count": 13,
      "outputs": []
    },
    {
      "cell_type": "code",
      "source": [
        "X = [\n",
        "     [-1],\n",
        "     [1]\n",
        "]\n",
        "y = [1, -1]"
      ],
      "metadata": {
        "id": "46nVq4Hq0m8G"
      },
      "execution_count": 14,
      "outputs": []
    },
    {
      "cell_type": "code",
      "source": [
        "not_model.fit(X, y)"
      ],
      "metadata": {
        "id": "5gPB_Ven0m8I"
      },
      "execution_count": 15,
      "outputs": []
    },
    {
      "cell_type": "code",
      "source": [
        "not_model.w, not_model.b"
      ],
      "metadata": {
        "colab": {
          "base_uri": "https://localhost:8080/"
        },
        "id": "JDffi0LSzVZM",
        "outputId": "729bf81c-d40d-49cd-e2a8-0139a105fb23"
      },
      "execution_count": 16,
      "outputs": [
        {
          "output_type": "execute_result",
          "data": {
            "text/plain": [
              "(array([-2.]), 0)"
            ]
          },
          "metadata": {},
          "execution_count": 16
        }
      ]
    },
    {
      "cell_type": "code",
      "source": [
        "not_model.predict(X)"
      ],
      "metadata": {
        "colab": {
          "base_uri": "https://localhost:8080/"
        },
        "outputId": "c3c5629e-5da7-4084-93e0-f8440885dda0",
        "id": "jD_1ThM_0m8J"
      },
      "execution_count": 17,
      "outputs": [
        {
          "output_type": "execute_result",
          "data": {
            "text/plain": [
              "array([ 2., -2.])"
            ]
          },
          "metadata": {},
          "execution_count": 17
        }
      ]
    },
    {
      "cell_type": "markdown",
      "source": [
        "## **NOR GATE**"
      ],
      "metadata": {
        "id": "6zgeBc4b1A1_"
      }
    },
    {
      "cell_type": "code",
      "source": [
        "nor_model = NeuralNet(2)"
      ],
      "metadata": {
        "id": "EmAUJDTS1A2A"
      },
      "execution_count": 18,
      "outputs": []
    },
    {
      "cell_type": "code",
      "source": [
        "X = [\n",
        "     [-1, -1],\n",
        "     [-1, 1],\n",
        "     [1, -1],\n",
        "     [1, 1]\n",
        "]\n",
        "y = [1, -1, -1, -1]"
      ],
      "metadata": {
        "id": "vD-3mmmT1A2B"
      },
      "execution_count": 19,
      "outputs": []
    },
    {
      "cell_type": "code",
      "source": [
        "nor_model.fit(X, y)"
      ],
      "metadata": {
        "id": "0oCS1r8P1A2D"
      },
      "execution_count": 20,
      "outputs": []
    },
    {
      "cell_type": "code",
      "source": [
        "nor_model.w, nor_model.b"
      ],
      "metadata": {
        "colab": {
          "base_uri": "https://localhost:8080/"
        },
        "id": "TSLxm_nqzc-p",
        "outputId": "21052f7a-a116-48bd-bd7d-5d1c2fdd5bd6"
      },
      "execution_count": 21,
      "outputs": [
        {
          "output_type": "execute_result",
          "data": {
            "text/plain": [
              "(array([-2., -2.]), -2)"
            ]
          },
          "metadata": {},
          "execution_count": 21
        }
      ]
    },
    {
      "cell_type": "code",
      "source": [
        "nor_model.predict(X)"
      ],
      "metadata": {
        "colab": {
          "base_uri": "https://localhost:8080/"
        },
        "outputId": "1261a35d-891a-4a04-f83c-23ca1648e5ab",
        "id": "245b4ulz1A2E"
      },
      "execution_count": 22,
      "outputs": [
        {
          "output_type": "execute_result",
          "data": {
            "text/plain": [
              "array([ 2., -2., -2., -6.])"
            ]
          },
          "metadata": {},
          "execution_count": 22
        }
      ]
    },
    {
      "cell_type": "markdown",
      "source": [
        "## **NAND GATE**"
      ],
      "metadata": {
        "id": "QWVSSedU1SUu"
      }
    },
    {
      "cell_type": "code",
      "source": [
        "nand_model = NeuralNet(2)"
      ],
      "metadata": {
        "id": "zf8jfMu11SUv"
      },
      "execution_count": 23,
      "outputs": []
    },
    {
      "cell_type": "code",
      "source": [
        "X = [\n",
        "     [-1, -1],\n",
        "     [-1, 1],\n",
        "     [1, -1],\n",
        "     [1, 1]\n",
        "]\n",
        "y = [1, 1, 1, -1]"
      ],
      "metadata": {
        "id": "bk1Hwc_t1SUw"
      },
      "execution_count": 24,
      "outputs": []
    },
    {
      "cell_type": "code",
      "source": [
        "nand_model.fit(X, y)"
      ],
      "metadata": {
        "id": "ZKUilFgG1SUy"
      },
      "execution_count": 25,
      "outputs": []
    },
    {
      "cell_type": "code",
      "source": [
        "nand_model.w, nand_model.b"
      ],
      "metadata": {
        "id": "bBc3RNY4zixa",
        "outputId": "475229c9-d65e-41c8-806d-8706a7f3aaf7",
        "colab": {
          "base_uri": "https://localhost:8080/"
        }
      },
      "execution_count": 26,
      "outputs": [
        {
          "output_type": "execute_result",
          "data": {
            "text/plain": [
              "(array([-2., -2.]), 2)"
            ]
          },
          "metadata": {},
          "execution_count": 26
        }
      ]
    },
    {
      "cell_type": "code",
      "source": [
        "nand_model.predict(X)"
      ],
      "metadata": {
        "id": "UJy1XzPZ1SUy",
        "colab": {
          "base_uri": "https://localhost:8080/"
        },
        "outputId": "9747124b-ee16-44fc-f63f-7d834ca8ddac"
      },
      "execution_count": 27,
      "outputs": [
        {
          "output_type": "execute_result",
          "data": {
            "text/plain": [
              "array([ 6.,  2.,  2., -2.])"
            ]
          },
          "metadata": {},
          "execution_count": 27
        }
      ]
    }
  ]
}