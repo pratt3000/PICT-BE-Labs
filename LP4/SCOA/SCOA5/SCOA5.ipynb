{
  "nbformat": 4,
  "nbformat_minor": 0,
  "metadata": {
    "colab": {
      "name": "SCOA5.ipynb",
      "provenance": []
    },
    "kernelspec": {
      "name": "python3",
      "display_name": "Python 3"
    },
    "language_info": {
      "name": "python"
    }
  },
  "cells": [
    {
      "cell_type": "code",
      "source": [
        "import numpy as np"
      ],
      "metadata": {
        "id": "wtJrSw9c0gCw"
      },
      "execution_count": 1,
      "outputs": []
    },
    {
      "cell_type": "code",
      "source": [
        "class SLP:\n",
        "  def __init__(self, n):\n",
        "    self.w = np.zeros((n))\n",
        "    self.b = 0\n",
        "\n",
        "  def __activation(self, x):\n",
        "    return 1 if x >= 0 else 0\n",
        "\n",
        "  def __train(self, X, y, lr):\n",
        "    y_hat = self.__activation(np.dot(self.w, X) + self.b)\n",
        "    delta_w = lr * (y - y_hat) * X\n",
        "    self.w += delta_w\n",
        "    self.b += lr * (y - y_hat)\n",
        "\n",
        "  def fit(self, X, y, learning_rate, epochs = 5):\n",
        "    for _ in range(epochs):\n",
        "      for i in range(len(X)):\n",
        "        self.__train(X[i], y[i], learning_rate)\n",
        "\n",
        "  def predict(self, X):\n",
        "    preds = []\n",
        "    for x in X:\n",
        "      y_hat = self.__activation(np.dot(self.w, x) + self.b)\n",
        "      preds.append(y_hat)\n",
        "    return preds"
      ],
      "metadata": {
        "id": "6r8zPDdsz_kq"
      },
      "execution_count": 2,
      "outputs": []
    },
    {
      "cell_type": "markdown",
      "source": [
        "## **OR GATE**"
      ],
      "metadata": {
        "id": "Gjm3HOIgW-Lb"
      }
    },
    {
      "cell_type": "code",
      "source": [
        "X = np.array([\n",
        "              [0, 0],\n",
        "              [0, 1],\n",
        "              [1, 0],\n",
        "              [1, 1]\n",
        "])\n",
        "y = np.array([0, 1, 1, 1])"
      ],
      "metadata": {
        "id": "sf_9mtZEUCuN"
      },
      "execution_count": 3,
      "outputs": []
    },
    {
      "cell_type": "code",
      "source": [
        "or_gate = SLP(2)"
      ],
      "metadata": {
        "id": "mF_GWclZUCwo"
      },
      "execution_count": 4,
      "outputs": []
    },
    {
      "cell_type": "code",
      "source": [
        "or_gate.fit(X, y, learning_rate = 0.5, epochs = 5)"
      ],
      "metadata": {
        "id": "QoKGPOz8XKq4"
      },
      "execution_count": 5,
      "outputs": []
    },
    {
      "cell_type": "code",
      "source": [
        "or_gate.predict(X)"
      ],
      "metadata": {
        "colab": {
          "base_uri": "https://localhost:8080/"
        },
        "id": "kVgzMz8PXKtP",
        "outputId": "25a21e54-708e-423b-a253-f9b8120f0896"
      },
      "execution_count": 6,
      "outputs": [
        {
          "output_type": "execute_result",
          "data": {
            "text/plain": [
              "[0, 1, 1, 1]"
            ]
          },
          "metadata": {},
          "execution_count": 6
        }
      ]
    },
    {
      "cell_type": "code",
      "source": [
        "print(f'Weights: {or_gate.w}, Bias: {or_gate.b}')"
      ],
      "metadata": {
        "colab": {
          "base_uri": "https://localhost:8080/"
        },
        "id": "aOgRoJryXKvV",
        "outputId": "c2c0bfec-89d2-45ae-fa62-c67f1d02e1eb"
      },
      "execution_count": 7,
      "outputs": [
        {
          "output_type": "stream",
          "name": "stdout",
          "text": [
            "Weights: [0.5 0.5], Bias: -0.5\n"
          ]
        }
      ]
    },
    {
      "cell_type": "markdown",
      "source": [
        "## **AND GATE**"
      ],
      "metadata": {
        "id": "J8CYyKudY9Sp"
      }
    },
    {
      "cell_type": "code",
      "source": [
        "X = np.array([\n",
        "              [0, 0],\n",
        "              [0, 1],\n",
        "              [1, 0],\n",
        "              [1, 1]\n",
        "])\n",
        "y = np.array([0, 0, 0, 1])"
      ],
      "metadata": {
        "id": "XcJ3FtzDY9Sq"
      },
      "execution_count": 8,
      "outputs": []
    },
    {
      "cell_type": "code",
      "source": [
        "and_gate = SLP(2)"
      ],
      "metadata": {
        "id": "96ENiJM-Y9Sr"
      },
      "execution_count": 9,
      "outputs": []
    },
    {
      "cell_type": "code",
      "source": [
        "and_gate.fit(X, y, learning_rate = 0.5, epochs = 5)"
      ],
      "metadata": {
        "id": "lZcEnrOFY9Sr"
      },
      "execution_count": 10,
      "outputs": []
    },
    {
      "cell_type": "code",
      "source": [
        "and_gate.predict(X)"
      ],
      "metadata": {
        "colab": {
          "base_uri": "https://localhost:8080/"
        },
        "outputId": "79aff27a-2b46-46db-bf3c-896c1b8e85eb",
        "id": "Fb0IpsODY9Ss"
      },
      "execution_count": 11,
      "outputs": [
        {
          "output_type": "execute_result",
          "data": {
            "text/plain": [
              "[0, 0, 0, 1]"
            ]
          },
          "metadata": {},
          "execution_count": 11
        }
      ]
    },
    {
      "cell_type": "code",
      "source": [
        "print(f'Weights: {and_gate.w}, Bias: {and_gate.b}')"
      ],
      "metadata": {
        "colab": {
          "base_uri": "https://localhost:8080/"
        },
        "outputId": "76bb49bd-cf2e-4e20-8b04-8a406c48e4b7",
        "id": "B7ondwN0Y9St"
      },
      "execution_count": 12,
      "outputs": [
        {
          "output_type": "stream",
          "name": "stdout",
          "text": [
            "Weights: [1.  0.5], Bias: -1.5\n"
          ]
        }
      ]
    },
    {
      "cell_type": "markdown",
      "source": [
        "## **NOT GATE**"
      ],
      "metadata": {
        "id": "n5GHDHxUZLNb"
      }
    },
    {
      "cell_type": "code",
      "source": [
        "X = np.array([\n",
        "              [0],\n",
        "              [1],\n",
        "])\n",
        "y = np.array([1, 0])"
      ],
      "metadata": {
        "id": "bGMCGOiqZLNd"
      },
      "execution_count": 13,
      "outputs": []
    },
    {
      "cell_type": "code",
      "source": [
        "not_gate = SLP(1)"
      ],
      "metadata": {
        "id": "vH766wb_ZLNf"
      },
      "execution_count": 14,
      "outputs": []
    },
    {
      "cell_type": "code",
      "source": [
        "not_gate.fit(X, y, learning_rate = 0.5, epochs = 5)"
      ],
      "metadata": {
        "id": "2OeSsy21ZLNg"
      },
      "execution_count": 15,
      "outputs": []
    },
    {
      "cell_type": "code",
      "source": [
        "not_gate.predict(X)"
      ],
      "metadata": {
        "colab": {
          "base_uri": "https://localhost:8080/"
        },
        "outputId": "10d14521-c127-4b13-f62f-e268089b67a1",
        "id": "nX_sfdJJZLNh"
      },
      "execution_count": 16,
      "outputs": [
        {
          "output_type": "execute_result",
          "data": {
            "text/plain": [
              "[1, 0]"
            ]
          },
          "metadata": {},
          "execution_count": 16
        }
      ]
    },
    {
      "cell_type": "code",
      "source": [
        "print(f'Weights: {not_gate.w}, Bias: {not_gate.b}')"
      ],
      "metadata": {
        "colab": {
          "base_uri": "https://localhost:8080/"
        },
        "outputId": "3d4b78a9-9d6d-4b7e-8751-dbfbf10e27da",
        "id": "hhYPXVg0ZLNi"
      },
      "execution_count": 17,
      "outputs": [
        {
          "output_type": "stream",
          "name": "stdout",
          "text": [
            "Weights: [-0.5], Bias: 0.0\n"
          ]
        }
      ]
    }
  ]
}